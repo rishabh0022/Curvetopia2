{
 "cells": [
  {
   "cell_type": "code",
   "execution_count": 7,
   "metadata": {},
   "outputs": [
    {
     "ename": "ModuleNotFoundError",
     "evalue": "No module named 'cv2'",
     "output_type": "error",
     "traceback": [
      "\u001b[1;31m---------------------------------------------------------------------------\u001b[0m",
      "\u001b[1;31mModuleNotFoundError\u001b[0m                       Traceback (most recent call last)",
      "Cell \u001b[1;32mIn[7], line 4\u001b[0m\n\u001b[0;32m      2\u001b[0m \u001b[38;5;28;01mfrom\u001b[39;00m \u001b[38;5;21;01mscipy\u001b[39;00m\u001b[38;5;21;01m.\u001b[39;00m\u001b[38;5;21;01mspatial\u001b[39;00m \u001b[38;5;28;01mimport\u001b[39;00m ConvexHull\n\u001b[0;32m      3\u001b[0m \u001b[38;5;28;01mimport\u001b[39;00m \u001b[38;5;21;01mmatplotlib\u001b[39;00m\u001b[38;5;21;01m.\u001b[39;00m\u001b[38;5;21;01mpyplot\u001b[39;00m \u001b[38;5;28;01mas\u001b[39;00m \u001b[38;5;21;01mplt\u001b[39;00m\n\u001b[1;32m----> 4\u001b[0m \u001b[38;5;28;01mimport\u001b[39;00m \u001b[38;5;21;01mcv2\u001b[39;00m\n\u001b[0;32m      5\u001b[0m \u001b[38;5;28;01mfrom\u001b[39;00m \u001b[38;5;21;01mscipy\u001b[39;00m \u001b[38;5;28;01mimport\u001b[39;00m ndimage\n\u001b[0;32m      6\u001b[0m \u001b[38;5;28;01mfrom\u001b[39;00m \u001b[38;5;21;01mskimage\u001b[39;00m\u001b[38;5;21;01m.\u001b[39;00m\u001b[38;5;21;01mmeasure\u001b[39;00m \u001b[38;5;28;01mimport\u001b[39;00m EllipseModel\n",
      "\u001b[1;31mModuleNotFoundError\u001b[0m: No module named 'cv2'"
     ]
    }
   ],
   "source": [
    "import numpy as np\n",
    "from scipy.spatial import ConvexHull\n",
    "import matplotlib.pyplot as plt\n",
    "import cv2\n",
    "from scipy import ndimage\n",
    "from skimage.measure import EllipseModel"
   ]
  },
  {
   "cell_type": "code",
   "execution_count": 4,
   "metadata": {},
   "outputs": [
    {
     "name": "stdout",
     "output_type": "stream",
     "text": [
      "Defaulting to user installation because normal site-packages is not writeable\n"
     ]
    },
    {
     "name": "stderr",
     "output_type": "stream",
     "text": [
      "ERROR: Could not find a version that satisfies the requirement cv2 (from versions: none)\n",
      "ERROR: No matching distribution found for cv2\n",
      "WARNING: You are using pip version 20.2.3; however, version 24.2 is available.\n",
      "You should consider upgrading via the 'c:\\program files\\python39\\python.exe -m pip install --upgrade pip' command.\n"
     ]
    },
    {
     "name": "stdout",
     "output_type": "stream",
     "text": [
      "Defaulting to user installation because normal site-packages is not writeable\n"
     ]
    },
    {
     "name": "stderr",
     "output_type": "stream",
     "text": [
      "ERROR: Could not find a version that satisfies the requirement scipy.spatial (from versions: none)\n",
      "ERROR: No matching distribution found for scipy.spatial\n",
      "WARNING: You are using pip version 20.2.3; however, version 24.2 is available.\n",
      "You should consider upgrading via the 'c:\\program files\\python39\\python.exe -m pip install --upgrade pip' command.\n"
     ]
    },
    {
     "name": "stdout",
     "output_type": "stream",
     "text": [
      "Defaulting to user installation because normal site-packages is not writeable\n",
      "Requirement already satisfied: numpy in c:\\users\\risha_l\\appdata\\roaming\\python\\python39\\site-packages (1.26.4)\n"
     ]
    },
    {
     "name": "stderr",
     "output_type": "stream",
     "text": [
      "WARNING: You are using pip version 20.2.3; however, version 24.2 is available.\n",
      "You should consider upgrading via the 'c:\\program files\\python39\\python.exe -m pip install --upgrade pip' command.\n"
     ]
    },
    {
     "name": "stdout",
     "output_type": "stream",
     "text": [
      "Defaulting to user installation because normal site-packages is not writeable\n"
     ]
    },
    {
     "name": "stderr",
     "output_type": "stream",
     "text": [
      "ERROR: Could not find a version that satisfies the requirement skiimage.measure (from versions: none)\n",
      "ERROR: No matching distribution found for skiimage.measure\n",
      "WARNING: You are using pip version 20.2.3; however, version 24.2 is available.\n",
      "You should consider upgrading via the 'c:\\program files\\python39\\python.exe -m pip install --upgrade pip' command.\n"
     ]
    }
   ],
   "source": [
    "!pip install cv2\n",
    "!pip install scipy.spatial\n",
    "!pip install numpy\n",
    "!pip install skiimage.measure"
   ]
  },
  {
   "cell_type": "markdown",
   "metadata": {},
   "source": [
    "from google.colab import drive\n",
    "drive.mount('/content/drive')"
   ]
  },
  {
   "cell_type": "code",
   "execution_count": null,
   "metadata": {},
   "outputs": [],
   "source": [
    "def read_csv(csv_path):\n",
    "    np_path_XYs = np.genfromtxt(csv_path, delimiter=',')\n",
    "    path_XYs = []\n",
    "    for i in np.unique(np_path_XYs[:, 0]):\n",
    "        npXYs = np_path_XYs[np_path_XYs[:, 0] == i][:, 1:]\n",
    "        XYs = []\n",
    "\n",
    "        for j in np.unique(npXYs[:, 0]):\n",
    "            XY = npXYs[npXYs[:, 0] == j][:, 1:]\n",
    "            XYs.append(XY)\n",
    "\n",
    "        path_XYs.append(XYs)\n",
    "\n",
    "    return path_XYs\n",
    "\n",
    "a=read_csv('/content/drive/MyDrive/adobe/gensolve/problems/isolated.csv')\n",
    "print(len(a))\n",
    "print(len(a[0]))\n",
    "print(len(a[0][0]))\n",
    "print(len(a[0][0][0]))"
   ]
  },
  {
   "cell_type": "code",
   "execution_count": 3,
   "metadata": {},
   "outputs": [
    {
     "ename": "NameError",
     "evalue": "name 'a' is not defined",
     "output_type": "error",
     "traceback": [
      "\u001b[1;31m---------------------------------------------------------------------------\u001b[0m",
      "\u001b[1;31mNameError\u001b[0m                                 Traceback (most recent call last)",
      "Cell \u001b[1;32mIn[3], line 12\u001b[0m\n\u001b[0;32m     10\u001b[0m     ax\u001b[38;5;241m.\u001b[39mset_aspect(\u001b[38;5;124m'\u001b[39m\u001b[38;5;124mequal\u001b[39m\u001b[38;5;124m'\u001b[39m)\n\u001b[0;32m     11\u001b[0m     plt\u001b[38;5;241m.\u001b[39mshow()\n\u001b[1;32m---> 12\u001b[0m \u001b[38;5;28mprint\u001b[39m(plot(\u001b[43ma\u001b[49m, [\u001b[38;5;124m'\u001b[39m\u001b[38;5;124mr\u001b[39m\u001b[38;5;124m'\u001b[39m, \u001b[38;5;124m'\u001b[39m\u001b[38;5;124mg\u001b[39m\u001b[38;5;124m'\u001b[39m, \u001b[38;5;124m'\u001b[39m\u001b[38;5;124mb\u001b[39m\u001b[38;5;124m'\u001b[39m, \u001b[38;5;124m'\u001b[39m\u001b[38;5;124my\u001b[39m\u001b[38;5;124m'\u001b[39m]))\n",
      "\u001b[1;31mNameError\u001b[0m: name 'a' is not defined"
     ]
    }
   ],
   "source": [
    "def plot(paths_XYs, colours):\n",
    "    fig, ax = plt.subplots(tight_layout=True, figsize=(8, 8))\n",
    "\n",
    "    for i, XYs in enumerate(paths_XYs):\n",
    "        c = colours[i % len(colours)]\n",
    "\n",
    "        for XY in XYs:\n",
    "            ax.plot(XY[:, 0], XY[:, 1], c=c, linewidth=2)\n",
    "\n",
    "    ax.set_aspect('equal')\n",
    "    plt.show()\n",
    "print(plot(a, ['r', 'g', 'b', 'y']))"
   ]
  },
  {
   "cell_type": "code",
   "execution_count": null,
   "metadata": {},
   "outputs": [],
   "source": [
    "def plot_shape(paths_XYs, colours):\n",
    "    fig, ax = plt.subplots(tight_layout=True, figsize=(8, 8))\n",
    "\n",
    "    for i, XYs in enumerate(paths_XYs):\n",
    "        c = colours[i % len(colours)]\n",
    "\n",
    "        ax.plot(XYs[:, 0], XYs[:, 1], c=c, linewidth=2)\n",
    "\n",
    "    ax.set_aspect('equal')\n",
    "    plt.show()\n",
    "print(plot_shape(a[0], ['r', 'g', 'b', 'y']))\n",
    "print(plot_shape(a[1], ['r', 'g', 'b', 'y']))\n",
    "print(plot_shape(a[2], ['r', 'g', 'b', 'y']))"
   ]
  },
  {
   "cell_type": "code",
   "execution_count": null,
   "metadata": {},
   "outputs": [],
   "source": [
    "def identify_shape(points):\n",
    "    print(len(points))\n",
    "    if len(points) < 3:\n",
    "        return 'unknown'\n",
    "\n",
    "    hull = ConvexHull(points)\n",
    "    hull_area = hull.volume\n",
    "    hull_perimeter = calculate_perimeter(hull)\n",
    "\n",
    "    if hull_perimeter == 0:\n",
    "        return 'unknown'\n",
    "\n",
    "    compactness = 4 * np.pi * hull_area / (hull_perimeter ** 2)\n",
    "\n",
    "    print(f\"Compactness: {compactness}, Hull Area: {hull_area}, Hull Perimeter: {hull_perimeter}\")\n",
    "\n",
    "    if compactness > 0.88:\n",
    "        print(\"Identified as circle\")\n",
    "        return 'circle'\n",
    "\n",
    "    aspect_ratio = calculate_aspect_ratio(points)\n",
    "    if 0.8 < aspect_ratio < 1.2:\n",
    "        print(\"Identified as rectangle\")\n",
    "        return 'rectangle'\n",
    "\n",
    "    if compactness < 0.7:\n",
    "        print(\"Identified as star\")\n",
    "        return 'star'\n",
    "\n",
    "    if 0.7 < compactness <= 0.88:\n",
    "        print(\"Identified as ellipse\")\n",
    "        return 'ellipse'\n",
    "\n",
    "    if compactness < 1e-3:\n",
    "        print(\"Identified as line\")\n",
    "        return 'line'\n",
    "\n",
    "    num_vertices = len(hull.vertices)\n",
    "    if 4 <= num_vertices <= 10:\n",
    "        aspect_ratio = calculate_aspect_ratio(points)\n",
    "        if aspect_ratio < 1.2:\n",
    "            shapes = {4: 'square', 5: 'pentagon', 6: 'hexagon', 7: 'heptagon', 8: 'octagon', 9: 'nonagon', 10: 'decagon'}\n",
    "            shape_name = shapes.get(num_vertices, 'polygon')\n",
    "            print(f\"Identified as {shape_name}\")\n",
    "            return shape_name\n",
    "\n",
    "    if len(hull.vertices) > 10:\n",
    "        print(\"Identified as polygon\")\n",
    "        return 'polygon'\n",
    "\n",
    "    return 'unknown'\n"
   ]
  },
  {
   "cell_type": "code",
   "execution_count": null,
   "metadata": {},
   "outputs": [],
   "source": [
    "def regularize_line(points):\n",
    "    if len(points) < 2:\n",
    "        return np.array([])\n",
    "    p1, p2 = points[0], points[-1]\n",
    "    x = np.array([p1[0], p2[0]])\n",
    "    y = np.array([p1[1], p2[1]])\n",
    "\n",
    "    return np.column_stack((x, y))"
   ]
  },
  {
   "cell_type": "code",
   "execution_count": null,
   "metadata": {},
   "outputs": [],
   "source": [
    "\n",
    "def regularize_polygon(points):\n",
    "    center = np.mean(points, axis=0)\n",
    "    radius = np.mean(np.linalg.norm(points - center, axis=1))\n",
    "    num_sides = len(points)\n",
    "\n",
    "    angles = np.linspace(0, 2 * np.pi, num_sides, endpoint=False)\n",
    "    x = center[0] + radius * np.cos(angles)\n",
    "    y = center[1] + radius * np.sin(angles)\n",
    "\n",
    "    return np.column_stack((x, y))"
   ]
  },
  {
   "cell_type": "code",
   "execution_count": null,
   "metadata": {},
   "outputs": [],
   "source": [
    "def regularize_circle(points, max_width, max_height, scale_factor=0.9):\n",
    "    center = np.mean(points, axis=0)\n",
    "    radius = np.median(np.linalg.norm(points - center, axis=1))\n",
    "\n",
    "    min_dimension = min(max_width, max_height)\n",
    "    scale = (min_dimension * scale_factor) / (2 * radius)\n",
    "\n",
    "    num_points = len(points)\n",
    "    theta = np.linspace(0, 2 * np.pi, num_points, endpoint=False)\n",
    "    x = center[0] + radius * scale * np.cos(theta)\n",
    "    y = center[1] + radius * scale * np.sin(theta)\n",
    "\n",
    "    return np.column_stack((x, y))"
   ]
  },
  {
   "cell_type": "code",
   "execution_count": null,
   "metadata": {},
   "outputs": [],
   "source": [
    "def regularize_ellipse(points):\n",
    "    if len(points) < 5:\n",
    "        return np.array([])\n",
    "\n",
    "    ellipse = EllipseModel()\n",
    "    ellipse.estimate(points)\n",
    "    xc, yc, a, b, theta = ellipse.params\n",
    "\n",
    "    num_points = len(points)\n",
    "    theta_values = np.linspace(0, 2 * np.pi, num_points)\n",
    "    x = xc + a * np.cos(theta_values) * np.cos(theta) - b * np.sin(theta_values) * np.sin(theta)\n",
    "    y = yc + a * np.cos(theta_values) * np.sin(theta) + b * np.sin(theta_values) * np.cos(theta)\n",
    "\n",
    "    return np.column_stack((x, y))"
   ]
  },
  {
   "cell_type": "code",
   "execution_count": null,
   "metadata": {},
   "outputs": [],
   "source": [
    "def regularize_rectangle(points, max_width, max_height, scale_factor=0.9):\n",
    "    min_coords = np.min(points, axis=0)\n",
    "    max_coords = np.max(points, axis=0)\n",
    "\n",
    "    width = max_coords[0] - min_coords[0]\n",
    "    height = max_coords[1] - min_coords[1]\n",
    "\n",
    "    scale_x = (max_width * scale_factor) / width\n",
    "    scale_y = (max_height * scale_factor) / height\n",
    "\n",
    "    center = np.mean(points, axis=0)\n",
    "\n",
    "    x = [min_coords[0], max_coords[0], max_coords[0], min_coords[0], min_coords[0]]\n",
    "    y = [min_coords[1], min_coords[1], max_coords[1], max_coords[1], min_coords[1]]\n",
    "\n",
    "    x = center[0] + (np.array(x) - center[0]) * scale_x\n",
    "    y = center[1] + (np.array(y) - center[1]) * scale_y\n",
    "\n",
    "    return np.column_stack((x, y))\n"
   ]
  },
  {
   "cell_type": "code",
   "execution_count": null,
   "metadata": {},
   "outputs": [],
   "source": [
    "def regularize_star(points):\n",
    "    center = np.mean(points, axis=0)\n",
    "    max_radius = np.max(np.linalg.norm(points - center, axis=1))\n",
    "    min_radius = max_radius * 0.4\n",
    "\n",
    "    num_points = 10\n",
    "    angles = np.linspace(0, 2 * np.pi, num_points, endpoint=False)\n",
    "    radii = np.zeros(num_points)\n",
    "    radii[::2] = max_radius\n",
    "    radii[1::2] = min_radius\n",
    "\n",
    "    x = center[0] + radii * np.cos(angles)\n",
    "    y = center[1] + radii * np.sin(angles)\n",
    "\n",
    "    x = np.append(x, x[0])\n",
    "    y = np.append(y, y[0])\n",
    "\n",
    "    return np.column_stack((x, y))"
   ]
  },
  {
   "cell_type": "code",
   "execution_count": null,
   "metadata": {},
   "outputs": [],
   "source": [
    "def calculate_max_extents(points):\n",
    "    min_coords = np.min(points, axis=0)\n",
    "    max_coords = np.max(points, axis=0)\n",
    "\n",
    "    extents = max_coords - min_coords\n",
    "\n",
    "    return extents[0], extents[1]"
   ]
  },
  {
   "cell_type": "code",
   "execution_count": null,
   "metadata": {},
   "outputs": [],
   "source": [
    "def calculate_aspect_ratio(points):\n",
    "    hull = ConvexHull(points)\n",
    "    hull_points = hull.points[hull.vertices]\n",
    "\n",
    "\n",
    "    dists = [np.linalg.norm(hull_points[i] - hull_points[(i + 1) % len(hull_points)]) for i in range(len(hull_points))]\n",
    "    width, height = sorted(dists)[:2]\n",
    "\n",
    "    return max(width, height) / min(width, height)"
   ]
  },
  {
   "cell_type": "code",
   "execution_count": null,
   "metadata": {},
   "outputs": [],
   "source": [
    "def regularize_shape(points):\n",
    "    if len(points) == 0:\n",
    "        return np.array([])\n",
    "\n",
    "    max_width, max_height = calculate_max_extents(points)\n",
    "    shape_type = identify_shape(points)\n",
    "\n",
    "    if shape_type == 'circle':\n",
    "        return regularize_circle(points, max_width, max_height)\n",
    "    elif shape_type == 'rectangle':\n",
    "        return regularize_rectangle(points, max_width, max_height)\n",
    "    elif shape_type == 'ellipse':\n",
    "        return regularize_ellipse(points)\n",
    "    elif shape_type == 'line':\n",
    "        return regularize_line(points)\n",
    "    elif shape_type == 'square':\n",
    "        return regularize_polygon(points)\n",
    "    elif shape_type == 'pentagon':\n",
    "        return regularize_polygon(points)\n",
    "    elif shape_type == 'hexagon':\n",
    "        return regularize_polygon(points)\n",
    "    elif shape_type == 'heptagon':\n",
    "        return regularize_polygon(points)\n",
    "    elif shape_type == 'octagon':\n",
    "        return regularize_polygon(points)\n",
    "    elif shape_type == 'nonagon':\n",
    "        return regularize_polygon(points)\n",
    "    elif shape_type == 'decagon':\n",
    "        return regularize_polygon(points)\n",
    "    elif shape_type == 'star':\n",
    "        return regularize_star(points)\n",
    "    elif shape_type == 'polygon':\n",
    "        return regularize_polygon(points)\n",
    "    else:\n",
    "        return regularize_polygon(points)"
   ]
  },
  {
   "cell_type": "code",
   "execution_count": null,
   "metadata": {},
   "outputs": [],
   "source": [
    "colours = ['r', 'g', 'b', 'y']\n",
    "pathXY=read_csv('/content/drive/MyDrive/adobe/gensolve/problems/isolated.csv')\n",
    "regularized_path_XYs = []\n",
    "plot(pathXY,colours)\n",
    "\n",
    "for path in pathXY:\n",
    "\n",
    "    regularized_path = []\n",
    "    for shape in path:\n",
    "\n",
    "        regularized_shape = regularize_shape(shape)\n",
    "        regularized_path.append(regularized_shape)\n",
    "\n",
    "    regularized_path_XYs.append(regularized_path)\n",
    "plot(regularized_path_XYs, colours)"
   ]
  },
  {
   "cell_type": "code",
   "execution_count": null,
   "metadata": {},
   "outputs": [],
   "source": []
  }
 ],
 "metadata": {
  "kernelspec": {
   "display_name": "Python 3",
   "language": "python",
   "name": "python3"
  },
  "language_info": {
   "codemirror_mode": {
    "name": "ipython",
    "version": 3
   },
   "file_extension": ".py",
   "mimetype": "text/x-python",
   "name": "python",
   "nbconvert_exporter": "python",
   "pygments_lexer": "ipython3",
   "version": "3.9.0"
  }
 },
 "nbformat": 4,
 "nbformat_minor": 2
}
